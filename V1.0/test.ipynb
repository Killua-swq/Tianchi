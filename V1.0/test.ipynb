{
 "metadata": {
  "language_info": {
   "codemirror_mode": {
    "name": "ipython",
    "version": 3
   },
   "file_extension": ".py",
   "mimetype": "text/x-python",
   "name": "python",
   "nbconvert_exporter": "python",
   "pygments_lexer": "ipython3",
   "version": "3.8.10"
  },
  "orig_nbformat": 2,
  "kernelspec": {
   "name": "python3810jvsc74a57bd0c4ac216533f51246d279044b65732a2abb4c436f0e61cef8fc699605041ed1ad",
   "display_name": "Python 3.8.10 64-bit"
  }
 },
 "nbformat": 4,
 "nbformat_minor": 2,
 "cells": [
  {
   "cell_type": "code",
   "execution_count": 6,
   "metadata": {},
   "outputs": [],
   "source": [
    "import pandas as pd\n",
    "import numpy as np\n",
    "import matplotlib.pyplot as plt\n",
    "import seaborn as sns\n",
    "import time\n",
    "import scipy\n",
    "import gc\n",
    "from collections import Counter\n",
    "import warnings\n",
    "from matplotlib import rcParams\n",
    "\n",
    "config = {\n",
    "    \"font.family\":'Times New Roman',  # 设置字体类型\n",
    "}\n",
    "\n",
    "rcParams.update(config)\n",
    "warnings.filterwarnings(action=\"ignore\")\n",
    "\n",
    "%matplotlib inline"
   ]
  },
  {
   "cell_type": "code",
   "execution_count": 7,
   "metadata": {},
   "outputs": [],
   "source": [
    "# 问题：如何优化读入数据的内存占用情况？\n",
    "\n",
    "# 解释内存\n",
    "def reduce_mem(df):\n",
    "    \"\"\"对于数值类型的数据进行内存节省\"\"\"\n",
    "    \n",
    "    starttime = time.time()\n",
    "    numerics = ['int16', 'int32', 'int64', 'float16', 'float32', 'float64']\n",
    "    start_mem = df.memory_usage().sum() / 1024**2  # 统计内存使用情况\n",
    "    \n",
    "    for col in df.columns:\n",
    "        col_type = df[col].dtypes\n",
    "        if col_type in numerics:\n",
    "            c_min = df[col].min()\n",
    "            c_max = df[col].max()\n",
    "            if pd.isnull(c_min) or pd.isnull(c_max):\n",
    "                continue\n",
    "            if str(col_type)[:3] == 'int':\n",
    "                # 装换数据类型\n",
    "                if c_min > np.iinfo(np.int8).min and c_max < np.iinfo(np.int8).max:\n",
    "                    df[col] = df[col].astype(np.int8)\n",
    "                elif c_min > np.iinfo(np.int16).min and c_max < np.iinfo(np.int16).max:\n",
    "                    df[col] = df[col].astype(np.int16)\n",
    "                elif c_min > np.iinfo(np.int32).min and c_max < np.iinfo(np.int32).max:\n",
    "                    df[col] = df[col].astype(np.int32)\n",
    "                elif c_min > np.iinfo(np.int64).min and c_max < np.iinfo(np.int64).max:\n",
    "                    df[col] = df[col].astype(np.int64)\n",
    "            else:\n",
    "                if c_min > np.finfo(np.float16).min and c_max < np.finfo(np.float16).max:\n",
    "                    df[col] = df[col].astype(np.float16)\n",
    "                elif c_min > np.finfo(np.float32).min and c_max < np.finfo(np.float32).max:\n",
    "                    df[col] = df[col].astype(np.float32)\n",
    "                else:\n",
    "                    df[col] = df[col].astype(np.float64)\n",
    "                    \n",
    "    end_mem = df.memory_usage().sum() / 1024**2\n",
    "    print('-- Mem. usage decreased to {:5.2f} Mb ({:.1f}% reduction),time spend:{:2.2f} min'.format(end_mem,100*(start_mem-end_mem)/start_mem,(time.time()-starttime)/60))\n",
    "    return df\n"
   ]
  },
  {
   "cell_type": "code",
   "execution_count": 8,
   "metadata": {},
   "outputs": [
    {
     "output_type": "stream",
     "name": "stdout",
     "text": [
      "-- Mem. usage decreased to  3.24 Mb (66.7% reduction),time spend:0.00 min\n-- Mem. usage decreased to  1.74 Mb (70.8% reduction),time spend:0.00 min\n-- Mem. usage decreased to  3.49 Mb (41.7% reduction),time spend:0.00 min\n"
     ]
    }
   ],
   "source": [
    "# user_log = reduce_mem(pd.read_csv(\"/home/songwq/Documents/workspace/Datasets/data_format1/user_log_format1.csv\"))\n",
    "user_info = reduce_mem(pd.read_csv(\"/home/songwq/Documents/workspace/Datasets/data_format1/user_info_format1.csv\"))\n",
    "train_data = reduce_mem(pd.read_csv(\"/home/songwq/Documents/workspace/Datasets/data_format1/train_format1.csv\"))\n",
    "test_data = reduce_mem(pd.read_csv(\"/home/songwq/Documents/workspace/Datasets/data_format1/test_format1.csv\"))"
   ]
  },
  {
   "cell_type": "code",
   "execution_count": 10,
   "metadata": {},
   "outputs": [
    {
     "output_type": "stream",
     "name": "stdout",
     "text": [
      "Iteration is stopped.\n",
      "-- Mem. usage decreased to 890.48 Mb (69.6% reduction),time spend:0.06 min\n"
     ]
    },
    {
     "output_type": "execute_result",
     "data": {
      "text/plain": [
       "          user_id  item_id  cat_id  seller_id  brand_id  time_stamp  \\\n",
       "0          328862   323294     833       2882    2660.0         829   \n",
       "1          328862   844400    1271       2882    2660.0         829   \n",
       "2          328862   575153    1271       2882    2660.0         829   \n",
       "3          328862   996875    1271       2882    2660.0         829   \n",
       "4          328862  1086186    1271       1253    1049.0         829   \n",
       "...           ...      ...     ...        ...       ...         ...   \n",
       "54925325   208016   107662     898       1346    7996.0        1110   \n",
       "54925326   208016  1058313     898       1346    7996.0        1110   \n",
       "54925327   208016   449814     898        983    7996.0        1110   \n",
       "54925328   208016   634856     898       1346    7996.0        1110   \n",
       "54925329   208016   272094     898       1346    7996.0        1111   \n",
       "\n",
       "          action_type  \n",
       "0                   0  \n",
       "1                   0  \n",
       "2                   0  \n",
       "3                   0  \n",
       "4                   0  \n",
       "...               ...  \n",
       "54925325            0  \n",
       "54925326            0  \n",
       "54925327            0  \n",
       "54925328            0  \n",
       "54925329            0  \n",
       "\n",
       "[54925330 rows x 7 columns]"
      ],
      "text/html": "<div>\n<style scoped>\n    .dataframe tbody tr th:only-of-type {\n        vertical-align: middle;\n    }\n\n    .dataframe tbody tr th {\n        vertical-align: top;\n    }\n\n    .dataframe thead th {\n        text-align: right;\n    }\n</style>\n<table border=\"1\" class=\"dataframe\">\n  <thead>\n    <tr style=\"text-align: right;\">\n      <th></th>\n      <th>user_id</th>\n      <th>item_id</th>\n      <th>cat_id</th>\n      <th>seller_id</th>\n      <th>brand_id</th>\n      <th>time_stamp</th>\n      <th>action_type</th>\n    </tr>\n  </thead>\n  <tbody>\n    <tr>\n      <th>0</th>\n      <td>328862</td>\n      <td>323294</td>\n      <td>833</td>\n      <td>2882</td>\n      <td>2660.0</td>\n      <td>829</td>\n      <td>0</td>\n    </tr>\n    <tr>\n      <th>1</th>\n      <td>328862</td>\n      <td>844400</td>\n      <td>1271</td>\n      <td>2882</td>\n      <td>2660.0</td>\n      <td>829</td>\n      <td>0</td>\n    </tr>\n    <tr>\n      <th>2</th>\n      <td>328862</td>\n      <td>575153</td>\n      <td>1271</td>\n      <td>2882</td>\n      <td>2660.0</td>\n      <td>829</td>\n      <td>0</td>\n    </tr>\n    <tr>\n      <th>3</th>\n      <td>328862</td>\n      <td>996875</td>\n      <td>1271</td>\n      <td>2882</td>\n      <td>2660.0</td>\n      <td>829</td>\n      <td>0</td>\n    </tr>\n    <tr>\n      <th>4</th>\n      <td>328862</td>\n      <td>1086186</td>\n      <td>1271</td>\n      <td>1253</td>\n      <td>1049.0</td>\n      <td>829</td>\n      <td>0</td>\n    </tr>\n    <tr>\n      <th>...</th>\n      <td>...</td>\n      <td>...</td>\n      <td>...</td>\n      <td>...</td>\n      <td>...</td>\n      <td>...</td>\n      <td>...</td>\n    </tr>\n    <tr>\n      <th>54925325</th>\n      <td>208016</td>\n      <td>107662</td>\n      <td>898</td>\n      <td>1346</td>\n      <td>7996.0</td>\n      <td>1110</td>\n      <td>0</td>\n    </tr>\n    <tr>\n      <th>54925326</th>\n      <td>208016</td>\n      <td>1058313</td>\n      <td>898</td>\n      <td>1346</td>\n      <td>7996.0</td>\n      <td>1110</td>\n      <td>0</td>\n    </tr>\n    <tr>\n      <th>54925327</th>\n      <td>208016</td>\n      <td>449814</td>\n      <td>898</td>\n      <td>983</td>\n      <td>7996.0</td>\n      <td>1110</td>\n      <td>0</td>\n    </tr>\n    <tr>\n      <th>54925328</th>\n      <td>208016</td>\n      <td>634856</td>\n      <td>898</td>\n      <td>1346</td>\n      <td>7996.0</td>\n      <td>1110</td>\n      <td>0</td>\n    </tr>\n    <tr>\n      <th>54925329</th>\n      <td>208016</td>\n      <td>272094</td>\n      <td>898</td>\n      <td>1346</td>\n      <td>7996.0</td>\n      <td>1111</td>\n      <td>0</td>\n    </tr>\n  </tbody>\n</table>\n<p>54925330 rows × 7 columns</p>\n</div>"
     },
     "metadata": {},
     "execution_count": 10
    }
   ],
   "source": [
    "# 问题：如何在pandas读取大批量的数据?\n",
    "\n",
    "# 数据量过大，采用迭代方法\n",
    "reader = pd.read_csv(\"/home/songwq/Documents/workspace/Datasets/data_format1/user_log_format1.csv\", iterator=True)\n",
    "# try:\n",
    "#     df = reader.get_chunk(100000)\n",
    "# except StopIteration:\n",
    "#     print(\"Iteration is stopped.\")\n",
    "loop = True\n",
    "chunkSize = 100000\n",
    "chunks = []\n",
    "\n",
    "while loop:\n",
    "    try:\n",
    "        chunk = reader.get_chunk(chunkSize)\n",
    "        chunks.append(chunk)\n",
    "    except StopIteration:\n",
    "        loop = False\n",
    "        print(\"Iteration is stopped.\")\n",
    "        \n",
    "df = pd.concat(chunks, ignore_index=True)\n",
    "user_log = reduce_mem(df)\n",
    "user_log"
   ]
  },
  {
   "cell_type": "code",
   "execution_count": 11,
   "metadata": {},
   "outputs": [
    {
     "output_type": "execute_result",
     "data": {
      "text/plain": [
       "424170"
      ]
     },
     "metadata": {},
     "execution_count": 11
    }
   ],
   "source": [
    "user_log[\"user_id\"].nunique()"
   ]
  },
  {
   "cell_type": "code",
   "execution_count": 12,
   "metadata": {},
   "outputs": [
    {
     "output_type": "stream",
     "name": "stdout",
     "text": [
      "<class 'pandas.core.frame.DataFrame'>\nRangeIndex: 54925330 entries, 0 to 54925329\nData columns (total 7 columns):\n #   Column       Dtype  \n---  ------       -----  \n 0   user_id      int32  \n 1   item_id      int32  \n 2   cat_id       int16  \n 3   seller_id    int16  \n 4   brand_id     float16\n 5   time_stamp   int16  \n 6   action_type  int8   \ndtypes: float16(1), int16(3), int32(2), int8(1)\nmemory usage: 890.5 MB\n"
     ]
    }
   ],
   "source": [
    "user_log.info()"
   ]
  },
  {
   "cell_type": "code",
   "execution_count": null,
   "metadata": {},
   "outputs": [],
   "source": []
  }
 ]
}